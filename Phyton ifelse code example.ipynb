{
 "cells": [
  {
   "cell_type": "markdown",
   "id": "1b52a517",
   "metadata": {},
   "source": [
    "# Basic of Python"
   ]
  },
  {
   "cell_type": "code",
   "execution_count": 1,
   "id": "0c3c685a",
   "metadata": {},
   "outputs": [
    {
     "name": "stdout",
     "output_type": "stream",
     "text": [
      "129\n",
      "2.3\n",
      "P Y\n",
      "Do not scared us Mr . Phython\n"
     ]
    }
   ],
   "source": [
    "# How to print any instruction\n",
    "x=129\n",
    "print(x) #print variable\n",
    "print(2.3)#print float\n",
    "print('P','Y') #print char\n",
    "print(\"Do not scared us Mr . Phython\") #print string\n"
   ]
  },
  {
   "cell_type": "code",
   "execution_count": 2,
   "id": "409ac2a7",
   "metadata": {},
   "outputs": [
    {
     "name": "stdout",
     "output_type": "stream",
     "text": [
      "123\n",
      "12.3\n",
      "P\n",
      "Pratice makes man perfect :\n"
     ]
    }
   ],
   "source": [
    "#How to do typecasting in Phyton\n",
    "x= 123\n",
    "y=12.3\n",
    "z='P'\n",
    "a=\"Pratice makes man perfect :\"\n",
    "print(x)\n",
    "print(y)\n",
    "print(z) #In phyton char \"DataType\" also used as str \"String\"\n",
    "print(a)"
   ]
  },
  {
   "cell_type": "code",
   "execution_count": 3,
   "id": "3c3d68fa",
   "metadata": {},
   "outputs": [
    {
     "data": {
      "text/plain": [
       "int"
      ]
     },
     "execution_count": 3,
     "metadata": {},
     "output_type": "execute_result"
    }
   ],
   "source": [
    "type(x)"
   ]
  },
  {
   "cell_type": "code",
   "execution_count": 4,
   "id": "62bea3a4",
   "metadata": {},
   "outputs": [
    {
     "data": {
      "text/plain": [
       "float"
      ]
     },
     "execution_count": 4,
     "metadata": {},
     "output_type": "execute_result"
    }
   ],
   "source": [
    "type(y)"
   ]
  },
  {
   "cell_type": "code",
   "execution_count": 5,
   "id": "cba9135c",
   "metadata": {},
   "outputs": [
    {
     "data": {
      "text/plain": [
       "str"
      ]
     },
     "execution_count": 5,
     "metadata": {},
     "output_type": "execute_result"
    }
   ],
   "source": [
    "type(z)"
   ]
  },
  {
   "cell_type": "code",
   "execution_count": 6,
   "id": "dce18560",
   "metadata": {},
   "outputs": [
    {
     "data": {
      "text/plain": [
       "str"
      ]
     },
     "execution_count": 6,
     "metadata": {},
     "output_type": "execute_result"
    }
   ],
   "source": [
    "type(a)"
   ]
  },
  {
   "cell_type": "code",
   "execution_count": 7,
   "id": "b5a27de9",
   "metadata": {},
   "outputs": [
    {
     "data": {
      "text/plain": [
       "6"
      ]
     },
     "execution_count": 7,
     "metadata": {},
     "output_type": "execute_result"
    }
   ],
   "source": [
    "2*3 # 2 multiple by 3"
   ]
  },
  {
   "cell_type": "code",
   "execution_count": 8,
   "id": "0fde8faa",
   "metadata": {},
   "outputs": [
    {
     "data": {
      "text/plain": [
       "8"
      ]
     },
     "execution_count": 8,
     "metadata": {},
     "output_type": "execute_result"
    }
   ],
   "source": [
    "2**3 # 2 cube "
   ]
  },
  {
   "cell_type": "code",
   "execution_count": 9,
   "id": "18e70fac",
   "metadata": {},
   "outputs": [
    {
     "data": {
      "text/plain": [
       "2.0"
      ]
     },
     "execution_count": 9,
     "metadata": {},
     "output_type": "execute_result"
    }
   ],
   "source": [
    "4/2 # answer in float"
   ]
  },
  {
   "cell_type": "markdown",
   "id": "e6a17a70",
   "metadata": {},
   "source": [
    "4//2 #answer in int"
   ]
  },
  {
   "cell_type": "code",
   "execution_count": 10,
   "id": "db0310ab",
   "metadata": {},
   "outputs": [
    {
     "data": {
      "text/plain": [
       "4.0"
      ]
     },
     "execution_count": 10,
     "metadata": {},
     "output_type": "execute_result"
    }
   ],
   "source": [
    "16/4"
   ]
  },
  {
   "cell_type": "code",
   "execution_count": 11,
   "id": "b8dc5796",
   "metadata": {},
   "outputs": [
    {
     "data": {
      "text/plain": [
       "4"
      ]
     },
     "execution_count": 11,
     "metadata": {},
     "output_type": "execute_result"
    }
   ],
   "source": [
    "16//4"
   ]
  },
  {
   "cell_type": "code",
   "execution_count": 12,
   "id": "51ca1296",
   "metadata": {},
   "outputs": [
    {
     "name": "stdout",
     "output_type": "stream",
     "text": [
      "<class 'int'>\n"
     ]
    }
   ],
   "source": [
    "x=25\n",
    "y=8\n",
    "z=x//y\n",
    "print(type(z))"
   ]
  },
  {
   "cell_type": "code",
   "execution_count": 13,
   "id": "9d9287c3",
   "metadata": {},
   "outputs": [
    {
     "name": "stdout",
     "output_type": "stream",
     "text": [
      "<class 'float'>\n"
     ]
    }
   ],
   "source": [
    "x=24\n",
    "y=8\n",
    "z=x/y\n",
    "print(type(z))"
   ]
  },
  {
   "cell_type": "markdown",
   "id": "b03c4f2a",
   "metadata": {},
   "source": [
    "# Rational Operators"
   ]
  },
  {
   "cell_type": "code",
   "execution_count": 14,
   "id": "7ea1d713",
   "metadata": {},
   "outputs": [
    {
     "name": "stdout",
     "output_type": "stream",
     "text": [
      "True\n",
      "False\n",
      "False\n"
     ]
    }
   ],
   "source": [
    "print(x>y)\n",
    "print(x<y)\n",
    "print(x==y)"
   ]
  },
  {
   "cell_type": "code",
   "execution_count": 15,
   "id": "e143bc6f",
   "metadata": {},
   "outputs": [
    {
     "data": {
      "text/plain": [
       "False"
      ]
     },
     "execution_count": 15,
     "metadata": {},
     "output_type": "execute_result"
    }
   ],
   "source": [
    "True and False"
   ]
  },
  {
   "cell_type": "code",
   "execution_count": 16,
   "id": "f9659643",
   "metadata": {},
   "outputs": [
    {
     "data": {
      "text/plain": [
       "True"
      ]
     },
     "execution_count": 16,
     "metadata": {},
     "output_type": "execute_result"
    }
   ],
   "source": [
    "True or False"
   ]
  },
  {
   "cell_type": "code",
   "execution_count": 17,
   "id": "5517f5f2",
   "metadata": {},
   "outputs": [
    {
     "data": {
      "text/plain": [
       "False"
      ]
     },
     "execution_count": 17,
     "metadata": {},
     "output_type": "execute_result"
    }
   ],
   "source": [
    "not True "
   ]
  },
  {
   "cell_type": "markdown",
   "id": "2373b02a",
   "metadata": {},
   "source": [
    "# Question 1 – Minimum/Maximum\n",
    "Write a program that asks the user to enter two numbers. The program should use the conditional operator to determine which\n",
    "number is the smaller and which is the larger."
   ]
  },
  {
   "cell_type": "code",
   "execution_count": 18,
   "id": "873fef24",
   "metadata": {},
   "outputs": [
    {
     "name": "stdout",
     "output_type": "stream",
     "text": [
      "Enter number_1 :\n",
      "3\n",
      "Enter number_2 : \n",
      "2\n",
      "Greater number is x : 3\n",
      "Smaller number is y : 2\n"
     ]
    }
   ],
   "source": [
    "x=input(\"Enter number_1 :\\n\")\n",
    "y=input(\"Enter number_2 : \\n\")\n",
    "if(x>y):\n",
    "    print(\"Greater number is x :\",x)\n",
    "    print(\"Smaller number is y :\",y)\n",
    "else:\n",
    "    print(\"Greater number is y :\",y)\n",
    "    print(\"Smaller number is x :\",x)"
   ]
  },
  {
   "cell_type": "markdown",
   "id": "bb05e480",
   "metadata": {},
   "source": [
    "# Question 2 – Magic Dates\n",
    "The date June 10, 1960, is special because when we write it in the following format, the month times the day equals the year.\n",
    "                                                   6/10/60\n",
    "Write a program that asks the user to enter a month (in numeric form), a day, and a two-digit year. The program should then\n",
    "determine whether the month times the day is equal to the year. If so, it should display a message saying the date is magic.\n",
    "Otherwise, it should display a message saying the date is not magic."
   ]
  },
  {
   "cell_type": "code",
   "execution_count": 19,
   "id": "6391d22d",
   "metadata": {},
   "outputs": [
    {
     "name": "stdout",
     "output_type": "stream",
     "text": [
      "Enter Data :\n",
      "3\n",
      "Enter Month :\n",
      "3\n",
      "Enter Year :\n",
      "2\n",
      "This is not magical Data 😒:\n",
      "\n"
     ]
    }
   ],
   "source": [
    "date=int(input(\"Enter Data :\\n\"))\n",
    "month=int(input(\"Enter Month :\\n\"))\n",
    "year=int(input(\"Enter Year :\\n\"))\n",
    "if date*month==year:\n",
    "    print(\"This is magical Data 😊:\\n\")\n",
    "else:\n",
    "    print(\"This is not magical Data 😒:\\n\")"
   ]
  },
  {
   "cell_type": "markdown",
   "id": "25e26f8a",
   "metadata": {},
   "source": [
    "# Question 3– Areas of Rectangles\n",
    "The area of a rectangle is the rectangle’s length times its width. Write a program that asks for the length and width of two\n",
    "rectangles. The program should tell the user which rectangle has the greater area, or if the areas are the same."
   ]
  },
  {
   "cell_type": "code",
   "execution_count": 25,
   "id": "e8b7cb36",
   "metadata": {},
   "outputs": [
    {
     "name": "stdout",
     "output_type": "stream",
     "text": [
      "Enter Lenght of Rectanguler#01 : \n",
      "2\n",
      "Enter Width of Rectanguler#01 : \n",
      "2\n",
      "Enter Lenght of Rectanguler#01 : \n",
      "2\n",
      "Enter Width of Rectanguler#01 : \n",
      "2\n",
      "Rectanguler01_Area same as Rectanguler02_Area : 4 4\n"
     ]
    }
   ],
   "source": [
    "lenght_1=int(input(\"Enter Lenght of Rectanguler#01 : \\n\"))\n",
    "width_1=int(input(\"Enter Width of Rectanguler#01 : \\n\"))          \n",
    "lenght_2=int(input(\"Enter Lenght of Rectanguler#01 : \\n\"))\n",
    "width_2=int(input(\"Enter Width of Rectanguler#01 : \\n\"))\n",
    "Rectanguler01_Area=lenght_1*width_1\n",
    "Rectanguler02_Area=lenght_2*width_2\n",
    "if (Rectanguler01_Area>Rectanguler02_Area):\n",
    "            print(\"Rectanguler01 Area is greater :\",Rectanguler01_Area)\n",
    "if (Rectanguler01_Area<Rectanguler02_Area):\n",
    "            print(\"Rectanguler02 Area is greater :\",Rectanguler02_Area)\n",
    "else:\n",
    "            print(\"Rectanguler01_Area same as Rectanguler02_Area :\",Rectanguler01_Area,Rectanguler02_Area)\n",
    " "
   ]
  },
  {
   "cell_type": "code",
   "execution_count": null,
   "id": "4c2f7db1",
   "metadata": {},
   "outputs": [],
   "source": []
  }
 ],
 "metadata": {
  "kernelspec": {
   "display_name": "Python 3 (ipykernel)",
   "language": "python",
   "name": "python3"
  },
  "language_info": {
   "codemirror_mode": {
    "name": "ipython",
    "version": 3
   },
   "file_extension": ".py",
   "mimetype": "text/x-python",
   "name": "python",
   "nbconvert_exporter": "python",
   "pygments_lexer": "ipython3",
   "version": "3.9.7"
  }
 },
 "nbformat": 4,
 "nbformat_minor": 5
}
